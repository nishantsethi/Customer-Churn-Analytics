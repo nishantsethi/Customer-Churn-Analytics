{
 "cells": [
  {
   "cell_type": "code",
   "execution_count": 3,
   "metadata": {},
   "outputs": [],
   "source": [
    "from pyspark.sql import SparkSession"
   ]
  },
  {
   "cell_type": "code",
   "execution_count": 4,
   "metadata": {},
   "outputs": [],
   "source": [
    "spark = SparkSession.builder.appName('kk').getOrCreate()"
   ]
  },
  {
   "cell_type": "code",
   "execution_count": 24,
   "metadata": {},
   "outputs": [],
   "source": [
    "from pyspark.sql.functions import (dayofmonth,hour,dayofyear,dayofweek,month,date_format,format_number,year,weekofyear,avg)"
   ]
  },
  {
   "cell_type": "code",
   "execution_count": 12,
   "metadata": {},
   "outputs": [],
   "source": [
    "df = spark.read.csv(\"Python-and-Spark-for-Big-Data-master/Spark_DataFrames/appl_stock.csv\", inferSchema=True,header=True)"
   ]
  },
  {
   "cell_type": "code",
   "execution_count": 13,
   "metadata": {},
   "outputs": [
    {
     "name": "stdout",
     "output_type": "stream",
     "text": [
      "+----------+------------------+\n",
      "|      Date|              Open|\n",
      "+----------+------------------+\n",
      "|2010-01-04|        213.429998|\n",
      "|2010-01-05|        214.599998|\n",
      "|2010-01-06|        214.379993|\n",
      "|2010-01-07|            211.75|\n",
      "|2010-01-08|        210.299994|\n",
      "|2010-01-11|212.79999700000002|\n",
      "|2010-01-12|209.18999499999998|\n",
      "|2010-01-13|        207.870005|\n",
      "|2010-01-14|210.11000299999998|\n",
      "|2010-01-15|210.92999500000002|\n",
      "|2010-01-19|        208.330002|\n",
      "|2010-01-20|        214.910006|\n",
      "|2010-01-21|        212.079994|\n",
      "|2010-01-22|206.78000600000001|\n",
      "|2010-01-25|202.51000200000001|\n",
      "|2010-01-26|205.95000100000001|\n",
      "|2010-01-27|        206.849995|\n",
      "|2010-01-28|        204.930004|\n",
      "|2010-01-29|        201.079996|\n",
      "|2010-02-01|192.36999699999998|\n",
      "+----------+------------------+\n",
      "only showing top 20 rows\n",
      "\n"
     ]
    }
   ],
   "source": [
    "df.select(['Date','Open']).show()"
   ]
  },
  {
   "cell_type": "code",
   "execution_count": 14,
   "metadata": {},
   "outputs": [
    {
     "name": "stdout",
     "output_type": "stream",
     "text": [
      "+----------+------------------+------------------+------------------+------------------+---------+------------------+\n",
      "|      Date|              Open|              High|               Low|             Close|   Volume|         Adj Close|\n",
      "+----------+------------------+------------------+------------------+------------------+---------+------------------+\n",
      "|2010-01-04|        213.429998|        214.499996|212.38000099999996|        214.009998|123432400|         27.727039|\n",
      "|2010-01-05|        214.599998|        215.589994|        213.249994|        214.379993|150476200|27.774976000000002|\n",
      "|2010-01-06|        214.379993|            215.23|        210.750004|        210.969995|138040000|27.333178000000004|\n",
      "|2010-01-07|            211.75|        212.000006|        209.050005|            210.58|119282800|          27.28265|\n",
      "|2010-01-08|        210.299994|        212.000006|209.06000500000002|211.98000499999998|111902700|         27.464034|\n",
      "|2010-01-11|212.79999700000002|        213.000002|        208.450005|210.11000299999998|115557400|         27.221758|\n",
      "|2010-01-12|209.18999499999998|209.76999500000002|        206.419998|        207.720001|148614900|          26.91211|\n",
      "|2010-01-13|        207.870005|210.92999500000002|        204.099998|        210.650002|151473000|          27.29172|\n",
      "|2010-01-14|210.11000299999998|210.45999700000002|        209.020004|            209.43|108223500|         27.133657|\n",
      "|2010-01-15|210.92999500000002|211.59999700000003|        205.869999|            205.93|148516900|26.680197999999997|\n",
      "|2010-01-19|        208.330002|215.18999900000003|        207.240004|        215.039995|182501900|27.860484999999997|\n",
      "|2010-01-20|        214.910006|        215.549994|        209.500002|            211.73|153038200|         27.431644|\n",
      "|2010-01-21|        212.079994|213.30999599999998|        207.210003|        208.069996|152038600|         26.957455|\n",
      "|2010-01-22|206.78000600000001|        207.499996|            197.16|            197.75|220441900|         25.620401|\n",
      "|2010-01-25|202.51000200000001|        204.699999|        200.190002|        203.070002|266424900|26.309658000000002|\n",
      "|2010-01-26|205.95000100000001|        213.710005|        202.580004|        205.940001|466777500|         26.681494|\n",
      "|2010-01-27|        206.849995|            210.58|        199.530001|        207.880005|430642100|26.932840000000002|\n",
      "|2010-01-28|        204.930004|        205.500004|        198.699995|        199.289995|293375600|25.819922000000002|\n",
      "|2010-01-29|        201.079996|        202.199995|        190.250002|        192.060003|311488100|         24.883208|\n",
      "|2010-02-01|192.36999699999998|             196.0|191.29999899999999|        194.729998|187469100|         25.229131|\n",
      "+----------+------------------+------------------+------------------+------------------+---------+------------------+\n",
      "only showing top 20 rows\n",
      "\n"
     ]
    }
   ],
   "source": [
    " df.show()"
   ]
  },
  {
   "cell_type": "code",
   "execution_count": 20,
   "metadata": {},
   "outputs": [
    {
     "name": "stdout",
     "output_type": "stream",
     "text": [
      "+----------+\n",
      "|year(Date)|\n",
      "+----------+\n",
      "|      2010|\n",
      "|      2010|\n",
      "|      2010|\n",
      "|      2010|\n",
      "|      2010|\n",
      "|      2010|\n",
      "|      2010|\n",
      "|      2010|\n",
      "|      2010|\n",
      "|      2010|\n",
      "|      2010|\n",
      "|      2010|\n",
      "|      2010|\n",
      "|      2010|\n",
      "|      2010|\n",
      "|      2010|\n",
      "|      2010|\n",
      "|      2010|\n",
      "|      2010|\n",
      "|      2010|\n",
      "+----------+\n",
      "only showing top 20 rows\n",
      "\n"
     ]
    }
   ],
   "source": [
    "df.select(year('Date')).show()"
   ]
  },
  {
   "cell_type": "code",
   "execution_count": 117,
   "metadata": {},
   "outputs": [],
   "source": [
    "newdf = df.withColumn('Year',year('Date'))"
   ]
  },
  {
   "cell_type": "code",
   "execution_count": 118,
   "metadata": {},
   "outputs": [],
   "source": [
    "naya = newdf.groupBy('Year').avg().select([\"Year\",\"avg(Close)\"])"
   ]
  },
  {
   "cell_type": "code",
   "execution_count": 119,
   "metadata": {},
   "outputs": [],
   "source": [
    "from pyspark import SparkContext\n",
    "from pyspark.sql import SQLContext\n",
    "from pyspark.sql import functions as F\n",
    "from pyspark.sql.window import Window"
   ]
  },
  {
   "cell_type": "code",
   "execution_count": 120,
   "metadata": {},
   "outputs": [],
   "source": [
    "naya = naya.select(['Year',format_number('avg(Close)',3).alias(\"Closing_Price\")]).orderBy('Year')"
   ]
  },
  {
   "cell_type": "code",
   "execution_count": 121,
   "metadata": {},
   "outputs": [
    {
     "name": "stdout",
     "output_type": "stream",
     "text": [
      "+----+-------------+\n",
      "|Year|Closing_Price|\n",
      "+----+-------------+\n",
      "|2010|      259.842|\n",
      "|2011|      364.004|\n",
      "|2012|      576.050|\n",
      "|2013|      472.635|\n",
      "|2014|      295.402|\n",
      "|2015|      120.040|\n",
      "|2016|      104.604|\n",
      "+----+-------------+\n",
      "\n"
     ]
    }
   ],
   "source": [
    "naya.show()"
   ]
  },
  {
   "cell_type": "code",
   "execution_count": 122,
   "metadata": {},
   "outputs": [],
   "source": [
    "my_window = Window.partitionBy().orderBy(\"Year\")"
   ]
  },
  {
   "cell_type": "code",
   "execution_count": 123,
   "metadata": {},
   "outputs": [],
   "source": [
    "naya = naya.withColumn('prev_yr',F.lag(naya['Closing_Price']).over(my_window))"
   ]
  },
  {
   "cell_type": "code",
   "execution_count": 124,
   "metadata": {},
   "outputs": [
    {
     "name": "stdout",
     "output_type": "stream",
     "text": [
      "+----+-------------+-------+\n",
      "|Year|Closing_Price|prev_yr|\n",
      "+----+-------------+-------+\n",
      "|2010|      259.842|   null|\n",
      "|2011|      364.004|259.842|\n",
      "|2012|      576.050|364.004|\n",
      "|2013|      472.635|576.050|\n",
      "|2014|      295.402|472.635|\n",
      "|2015|      120.040|295.402|\n",
      "|2016|      104.604|120.040|\n",
      "+----+-------------+-------+\n",
      "\n"
     ]
    }
   ],
   "source": [
    "naya.show()"
   ]
  },
  {
   "cell_type": "code",
   "execution_count": 74,
   "metadata": {},
   "outputs": [
    {
     "name": "stdout",
     "output_type": "stream",
     "text": [
      "+----+-------+-------+--------------------+\n",
      "|Year|main_yr|prev_yr|   Percentage Change|\n",
      "+----+-------+-------+--------------------+\n",
      "|2010|259.842|   null|                   0|\n",
      "|2011|364.004|259.842| +0.0040086668052124|\n",
      "|2012|576.050|364.004|+0.00582537554532...|\n",
      "|2013|472.635|576.050|-0.00218805209093...|\n",
      "|2014|295.402|472.635|-0.00599972241217...|\n",
      "|2015|120.040|295.402|-0.01460863045651...|\n",
      "|2016|104.604|120.040|-0.00147566058659...|\n",
      "+----+-------+-------+--------------------+\n",
      "\n"
     ]
    }
   ],
   "source": [
    "## Adding + and minus\n",
    "naya.withColumn('Percentage Change',F.when(F.isnull(naya['Closing_Price'] - naya['prev_yr']),0)\n",
    "             .when(naya['Closing_Price'] > naya['prev_yr'],F.concat(F.lit(\"+\"),(naya['Closing_Price']-naya['prev_yr'])/(naya['prev_yr']*100)))\n",
    "             .otherwise(F.concat(F.lit(\"-\"),(naya['prev_yr']-naya['Closing_Price'])/(naya['Closing_Price']*100)))).show()"
   ]
  },
  {
   "cell_type": "code",
   "execution_count": 84,
   "metadata": {},
   "outputs": [
    {
     "name": "stdout",
     "output_type": "stream",
     "text": [
      "+----+-------+-------+-----------------+-------------------+-------------------+\n",
      "|Year|main_yr|prev_yr|Percentage Change|   PercentageChange|  Percentage_Change|\n",
      "+----+-------+-------+-----------------+-------------------+-------------------+\n",
      "|2010|259.842|   null|             None|                  0|                  0|\n",
      "|2011|364.004|259.842|           Profit|    40.086668052124|    40.086668052124|\n",
      "|2012|576.050|364.004|           Profit|  58.25375545323676|  58.25375545323676|\n",
      "|2013|472.635|576.050|             Loss|-17.952434684489187|-17.952434684489187|\n",
      "|2014|295.402|472.635|             Loss| -37.49891565372857| -37.49891565372857|\n",
      "|2015|120.040|295.402|             Loss| -59.36384994008165| -59.36384994008165|\n",
      "|2016|104.604|120.040|             Loss| -12.85904698433856| -12.85904698433856|\n",
      "+----+-------+-------+-----------------+-------------------+-------------------+\n",
      "\n"
     ]
    }
   ],
   "source": [
    "## Just Profit and loss\n",
    "naya.withColumn('Percentage Change',F.when(F.isnull(naya['Closing_Price'] - naya['prev_yr']),'None')\n",
    "             .when(naya['Closing_Price'] > naya['prev_yr'],'Profit')\n",
    "             .otherwise('Loss')).show()"
   ]
  },
  {
   "cell_type": "code",
   "execution_count": 105,
   "metadata": {},
   "outputs": [],
   "source": [
    "naya = naya.withColumn('Percentage_Change',F.when(F.isnull(naya['Closing_Price'] - naya['prev_yr']),0)\n",
    "             .otherwise(((naya['Closing_Price']-naya['prev_yr'])/(naya['prev_yr']))*100))"
   ]
  },
  {
   "cell_type": "code",
   "execution_count": 106,
   "metadata": {},
   "outputs": [
    {
     "name": "stdout",
     "output_type": "stream",
     "text": [
      "+----+-------+-------+-------------------+\n",
      "|Year|main_yr|prev_yr|  Percentage_Change|\n",
      "+----+-------+-------+-------------------+\n",
      "|2010|259.842|   null|                0.0|\n",
      "|2011|364.004|259.842|    40.086668052124|\n",
      "|2012|576.050|364.004|  58.25375545323676|\n",
      "|2013|472.635|576.050|-17.952434684489187|\n",
      "|2014|295.402|472.635| -37.49891565372857|\n",
      "|2015|120.040|295.402| -59.36384994008165|\n",
      "|2016|104.604|120.040| -12.85904698433856|\n",
      "+----+-------+-------+-------------------+\n",
      "\n"
     ]
    }
   ],
   "source": [
    "naya.show()"
   ]
  },
  {
   "cell_type": "code",
   "execution_count": 107,
   "metadata": {},
   "outputs": [
    {
     "name": "stdout",
     "output_type": "stream",
     "text": [
      "root\n",
      " |-- Year: integer (nullable = true)\n",
      " |-- main_yr: string (nullable = true)\n",
      " |-- prev_yr: string (nullable = true)\n",
      " |-- Percentage_Change: double (nullable = true)\n",
      "\n"
     ]
    }
   ],
   "source": [
    "naya.printSchema()"
   ]
  },
  {
   "cell_type": "code",
   "execution_count": 111,
   "metadata": {},
   "outputs": [
    {
     "name": "stdout",
     "output_type": "stream",
     "text": [
      "+----+-------+-----------------+\n",
      "|Year|main_yr|Percentage Change|\n",
      "+----+-------+-----------------+\n",
      "|2010|259.842|            0.000|\n",
      "|2011|364.004|           40.087|\n",
      "|2012|576.050|           58.254|\n",
      "|2013|472.635|          -17.952|\n",
      "|2014|295.402|          -37.499|\n",
      "|2015|120.040|          -59.364|\n",
      "|2016|104.604|          -12.859|\n",
      "+----+-------+-----------------+\n",
      "\n"
     ]
    }
   ],
   "source": [
    "naya.select(['Year','Closing_Price',format_number('Percentage_Change',3).alias('Percentage Change')]).show()"
   ]
  },
  {
   "cell_type": "code",
   "execution_count": null,
   "metadata": {},
   "outputs": [],
   "source": [
    "# +----+-------+-----------------+\n",
    "# |Year|main_yr|Percentage Change|\n",
    "# +----+-------+-----------------+\n",
    "# |2010|259.842|            0.000|\n",
    "# |2011|364.004|           40.087|\n",
    "# |2012|576.050|           58.254|\n",
    "# |2013|472.635|          -17.952|\n",
    "# |2014|295.402|          -37.499|\n",
    "# |2015|120.040|          -59.364|\n",
    "# |2016|104.604|          -12.859|\n",
    "# +----+-------+-----------------+"
   ]
  }
 ],
 "metadata": {
  "kernelspec": {
   "display_name": "Python 3",
   "language": "python",
   "name": "python3"
  },
  "language_info": {
   "codemirror_mode": {
    "name": "ipython",
    "version": 3
   },
   "file_extension": ".py",
   "mimetype": "text/x-python",
   "name": "python",
   "nbconvert_exporter": "python",
   "pygments_lexer": "ipython3",
   "version": "3.7.7"
  }
 },
 "nbformat": 4,
 "nbformat_minor": 2
}
